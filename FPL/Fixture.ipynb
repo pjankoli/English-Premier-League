{
 "cells": [
  {
   "cell_type": "code",
   "execution_count": 6,
   "metadata": {
    "collapsed": false
   },
   "outputs": [
    {
     "data": {
      "text/plain": [
       "{u'_links': {u'fixtures': {u'href': u'http://api.football-data.org/v1/competitions/445/fixtures'},\n",
       "  u'leagueTable': {u'href': u'http://api.football-data.org/v1/competitions/445/leagueTable'},\n",
       "  u'self': {u'href': u'http://api.football-data.org/v1/competitions/445'},\n",
       "  u'teams': {u'href': u'http://api.football-data.org/v1/competitions/445/teams'}},\n",
       " u'caption': u'Premier League 2017/18',\n",
       " u'currentMatchday': 5,\n",
       " u'id': 445,\n",
       " u'lastUpdated': u'2017-09-16T18:30:16Z',\n",
       " u'league': u'PL',\n",
       " u'numberOfGames': 380,\n",
       " u'numberOfMatchdays': 38,\n",
       " u'numberOfTeams': 20,\n",
       " u'year': u'2017'}"
      ]
     },
     "execution_count": 6,
     "metadata": {},
     "output_type": "execute_result"
    }
   ],
   "source": [
    "import pandas as pd\n",
    "import numpy as np\n",
    "import math\n",
    "import statsmodels.discrete.discrete_model as sm\n",
    "import json\n",
    "import urllib\n",
    "%matplotlib inline  \n",
    "\n",
    "# Get Links\n",
    "html = urllib.urlopen(\"http://api.football-data.org/v1/competitions\")\n",
    "res = html.read()\n",
    "j = json.loads(res)\n",
    "\n",
    "\n",
    "\n",
    "eplStuff = None\n",
    "for i in j:\n",
    "    if i[\"caption\"] == \"Premier League 2017/18\":\n",
    "        eplStuff = i\n",
    "        \n",
    "eplStuff"
   ]
  },
  {
   "cell_type": "code",
   "execution_count": 7,
   "metadata": {
    "collapsed": false
   },
   "outputs": [],
   "source": [
    "# store links\n",
    "\n",
    "fixturesLink = str(eplStuff[\"_links\"][\"fixtures\"][\"href\"])\n",
    "\n",
    "tableLink = str(eplStuff[\"_links\"][\"leagueTable\"][\"href\"])\n",
    "\n",
    "teamsLink = str(eplStuff[\"_links\"][\"teams\"][\"href\"])\n",
    "\n",
    "currentMatchDay = str(eplStuff[\"currentMatchday\"])\n",
    "\n",
    "html = urllib.urlopen(fixturesLink)\n",
    "res = html.read()\n",
    "fixturesData = json.loads(res)"
   ]
  },
  {
   "cell_type": "code",
   "execution_count": 8,
   "metadata": {
    "collapsed": false
   },
   "outputs": [],
   "source": [
    "# Get Fixtures\n",
    "with open('comingfixtures.csv','wb') as file:\n",
    "    for i in fixturesData[\"fixtures\"]:\n",
    "        date = i[\"date\"][:10]\n",
    "        line = date + \",\" + i[\"homeTeamName\"] + \",\" + i[\"awayTeamName\"]\n",
    "        file.write(line)\n",
    "        file.write('\\n')\n",
    "        #print i[\"homeTeamName\"] + \" \" + i[\"awayTeamName\"] + date"
   ]
  },
  {
   "cell_type": "code",
   "execution_count": null,
   "metadata": {
    "collapsed": false
   },
   "outputs": [],
   "source": []
  },
  {
   "cell_type": "code",
   "execution_count": null,
   "metadata": {
    "collapsed": true
   },
   "outputs": [],
   "source": []
  },
  {
   "cell_type": "code",
   "execution_count": null,
   "metadata": {
    "collapsed": false
   },
   "outputs": [],
   "source": []
  },
  {
   "cell_type": "code",
   "execution_count": null,
   "metadata": {
    "collapsed": true
   },
   "outputs": [],
   "source": []
  }
 ],
 "metadata": {
  "anaconda-cloud": {},
  "kernelspec": {
   "display_name": "Python [conda root]",
   "language": "python",
   "name": "conda-root-py"
  },
  "language_info": {
   "codemirror_mode": {
    "name": "ipython",
    "version": 2
   },
   "file_extension": ".py",
   "mimetype": "text/x-python",
   "name": "python",
   "nbconvert_exporter": "python",
   "pygments_lexer": "ipython2",
   "version": "2.7.12"
  }
 },
 "nbformat": 4,
 "nbformat_minor": 1
}
