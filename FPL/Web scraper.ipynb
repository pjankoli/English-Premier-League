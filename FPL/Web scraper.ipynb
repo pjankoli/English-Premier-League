{
 "cells": [
  {
   "cell_type": "code",
   "execution_count": null,
   "metadata": {
    "collapsed": true
   },
   "outputs": [],
   "source": [
    "import requests\n",
    "import urllib\n",
    "from scrapy.http import TextResponse\n",
    "from scrapy.spiders import Spider\n",
    "from scrapy.selector import Selector\n",
    "import pandas as pd\n",
    "\n",
    "CATEGORIES = [\"OVERALL\", \"STANDARD\", \"DISCIPLINE\", \"CONTROL\"]\n",
    "CATEGORY = \"CONTROL\"\n",
    "PAGES = 2\n",
    "        \n",
    "url = \"http://www.foxsports.com/soccer/stats?competition=1&season=20160&category=\" + CATEGORY +\"&pos=0&team=0&isOpp=0&sort=3&sortOrder=0&page=\"\n",
    "pageData = dict()\n",
    "for i in range(1,PAGES):\n",
    "    currenturl = url + str(i)\n",
    "    r = requests.get(currenturl)\n",
    "    response = TextResponse(r.url, body=r.text, encoding='utf-8')\n",
    "    pageData[currenturl] = response    "
   ]
  },
  {
   "cell_type": "code",
   "execution_count": null,
   "metadata": {
    "collapsed": true
   },
   "outputs": [],
   "source": [
    "gameData = pd.DataFrame()\n",
    "\n",
    "class EPLSpider(Spider):\n",
    "    name = 'ManSpider'\n",
    "    allowed_domains = [\"foxsports.com\"]\n",
    "\n",
    "    def parse_item(self, response):\n",
    "        hxs = HtmlXPathSelector(response)\n",
    "    def parsePlayerStats(self, response):\n",
    "        hxs = Selector(response)\n",
    "        items = hxs.xpath('//table')\n",
    "        my_item = dict()\n",
    "        for item in items:\n",
    "            playernames = item.xpath('//a[@class=\"wisbb_fullPlayer\"]//span/text()').extract()\n",
    "            team = item.xpath('//span[@class=\"wisbb_tableAbbrevLink\"]//a/text()').extract()\n",
    "            title=\"Total Touches\"\n",
    "            stats = item.xpath('//td[@class=\"wisbb_priorityColumn wisbb_selected\"]/text()').extract()\n",
    "            players = playernames[::2]\n",
    "            print(len(stats))\n",
    "            print(len(players))\n",
    "            gameData['Name'] = players\n",
    "            gameData['Touches'] = stats\n",
    "            gameData['Team'] = team\n",
    "            print('=======================================================================\\n')\n",
    "\n",
    "\n",
    "m = EPLSpider\n",
    "for i in range(1,PAGES):\n",
    "    currenturl = url + str(i)\n",
    "    response = pageData[currenturl]\n",
    "    m.parsePlayerStats(EPLSpider,response)\n"
   ]
  },
  {
   "cell_type": "code",
   "execution_count": null,
   "metadata": {
    "collapsed": true
   },
   "outputs": [],
   "source": [
    "teamstandingsurl = \"http://www.foxsports.com/soccer/standings?competition=1\"\n",
    "\n",
    "r = requests.get(teamstandingsurl)\n",
    "response = TextResponse(r.url, body=r.text, encoding='utf-8')\n",
    "pageTeamData[currenturl] = response   \n",
    "\n",
    "class TeamSpider(Spider):\n",
    "    name = 'ManSpider'\n",
    "    allowed_domains = [\"foxsports.com\"]\n",
    "\n",
    "    def parseTeamStats(self, response):\n",
    "        hxs = Selector(response)\n",
    "        items = hxs.xpath('//table')\n",
    "        my_item = dict()\n",
    "        for item in items:\n",
    "            print(item)"
   ]
  }
 ],
 "metadata": {
  "anaconda-cloud": {},
  "kernelspec": {
   "display_name": "Python [conda root]",
   "language": "python",
   "name": "conda-root-py"
  },
  "language_info": {
   "codemirror_mode": {
    "name": "ipython",
    "version": 2
   },
   "file_extension": ".py",
   "mimetype": "text/x-python",
   "name": "python",
   "nbconvert_exporter": "python",
   "pygments_lexer": "ipython2",
   "version": "2.7.12"
  }
 },
 "nbformat": 4,
 "nbformat_minor": 1
}
