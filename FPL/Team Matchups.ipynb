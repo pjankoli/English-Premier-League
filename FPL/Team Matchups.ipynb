{
 "cells": [
  {
   "cell_type": "code",
   "execution_count": 6,
   "metadata": {
    "collapsed": false
   },
   "outputs": [],
   "source": [
    "import pandas as pd\n",
    "import numpy as np\n",
    "import math\n",
    "import statsmodels.discrete.discrete_model as sm\n",
    "import json\n",
    "import urllib2\n",
    "import urllib\n",
    "\n",
    "# To be changed\n",
    "Week = 18\n",
    "\n",
    "comingfixtures = \"comingfixtures.csv\"\n",
    "\n",
    "\n",
    "start = (Week-1)*10 + 1\n",
    "end = (Week)*10\n",
    "Range = [start, end]\n",
    "\n",
    "colDate = \"Date\"\n",
    "colHomeTeam = \"HomeTeam\"\n",
    "colAwayTeam = \"AwayTeam\"\n",
    "\n",
    "season2015Table = pd.read_csv(\"2015Standings.csv\")\n",
    "\n",
    "season2016Table = pd.read_csv(\"2016Standings.csv\")\n",
    "\n",
    "season2017Table = pd.read_csv(\"2017Standings.csv\")\n",
    "\n",
    "season2018Table = pd.read_csv(\"2018Standings.csv\")\n",
    "\n",
    "matches = pd.read_csv(comingfixtures, skiprows=start-1, nrows=10, names=[colDate, colHomeTeam, colAwayTeam])\n"
   ]
  },
  {
   "cell_type": "code",
   "execution_count": 7,
   "metadata": {
    "collapsed": false
   },
   "outputs": [],
   "source": [
    "standings2015 = dict(zip(season2015Table.Team, season2015Table.Position))\n",
    "standings2016 = dict(zip(season2016Table.Team, season2016Table.Position))\n",
    "standings2017 = dict(zip(season2017Table.Team, season2017Table.Position))\n",
    "standings2018 = dict(zip(season2018Table.Team, season2018Table.Position))\n",
    "\n",
    "#standings2018 = dict()\n",
    "#for i in season2018Json[\"standing\"]:\n",
    "#    standings2018[i[\"teamName\"]] = i[\"position\"]         "
   ]
  },
  {
   "cell_type": "code",
   "execution_count": 8,
   "metadata": {
    "collapsed": false
   },
   "outputs": [],
   "source": [
    "def compareLogic(homeTeam, awayTeam):\n",
    "    diff18 = (standings2018[homeTeam] - standings2018[awayTeam])*-1    \n",
    "    diff17 = (standings2017[homeTeam] - standings2017[awayTeam])*-1\n",
    "    diff16 = (standings2016[homeTeam] - standings2016[awayTeam])*-1\n",
    "    diff15 = (standings2015[homeTeam] - standings2015[awayTeam])*-1\n",
    "    \n",
    "    return diff15, diff16, diff17, diff18\n",
    "    \n",
    "def fillStandings(homeTeam, awayTeam):\n",
    "    if homeTeam not in standings2015:\n",
    "        standings2015[homeTeam] = 20\n",
    "    if awayTeam not in standings2015:\n",
    "        standings2015[awayTeam] = 20      \n",
    "        \n",
    "    if homeTeam not in standings2016:\n",
    "        standings2016[homeTeam] = 20\n",
    "    if awayTeam not in standings2016:\n",
    "        standings2016[awayTeam] = 20 \n",
    "        \n",
    "    if homeTeam not in standings2017:\n",
    "        standings2017[homeTeam] = 20\n",
    "    if awayTeam not in standings2017:\n",
    "        standings2017[awayTeam] = 20  \n",
    "        \n",
    "    if homeTeam not in standings2018:\n",
    "        standings2018[homeTeam] = 20\n",
    "    if awayTeam not in standings2018:\n",
    "        standings2018[awayTeam] = 20           "
   ]
  },
  {
   "cell_type": "code",
   "execution_count": 9,
   "metadata": {
    "collapsed": false
   },
   "outputs": [
    {
     "data": {
      "text/plain": [
       "{'AFC Bournemouth': 11.0,\n",
       " 'Arsenal FC': 2.0,\n",
       " 'Burnley FC': 14.0,\n",
       " 'Chelsea FC': 5.0,\n",
       " 'Crystal Palace FC': 9.0,\n",
       " 'Everton FC': 6.0,\n",
       " 'Hull City FC': 16.0,\n",
       " 'Leicester City FC': 13.0,\n",
       " 'Liverpool FC': 4.0,\n",
       " 'Manchester City FC': 1.0,\n",
       " 'Manchester United FC': 7.0,\n",
       " 'Middlesbrough FC': 17.0,\n",
       " 'Southampton FC': 8.0,\n",
       " 'Stoke City FC': 18.0,\n",
       " 'Sunderland AFC': 20.0,\n",
       " 'Swansea City FC': 19.0,\n",
       " 'Tottenham Hotspur FC': 3.0,\n",
       " 'Watford FC': 10.0,\n",
       " 'West Bromwich Albion FC': 12.0,\n",
       " 'West Ham United FC': 15.0}"
      ]
     },
     "execution_count": 9,
     "metadata": {},
     "output_type": "execute_result"
    }
   ],
   "source": [
    "standings2016"
   ]
  },
  {
   "cell_type": "code",
   "execution_count": null,
   "metadata": {
    "collapsed": false
   },
   "outputs": [],
   "source": []
  },
  {
   "cell_type": "code",
   "execution_count": null,
   "metadata": {
    "collapsed": false
   },
   "outputs": [],
   "source": [
    "\n",
    "\n"
   ]
  },
  {
   "cell_type": "code",
   "execution_count": null,
   "metadata": {
    "collapsed": false
   },
   "outputs": [],
   "source": []
  },
  {
   "cell_type": "code",
   "execution_count": null,
   "metadata": {
    "collapsed": false
   },
   "outputs": [],
   "source": []
  },
  {
   "cell_type": "code",
   "execution_count": null,
   "metadata": {
    "collapsed": false
   },
   "outputs": [],
   "source": []
  },
  {
   "cell_type": "code",
   "execution_count": null,
   "metadata": {
    "collapsed": true
   },
   "outputs": [],
   "source": []
  }
 ],
 "metadata": {
  "anaconda-cloud": {},
  "kernelspec": {
   "display_name": "Python [conda root]",
   "language": "python",
   "name": "conda-root-py"
  },
  "language_info": {
   "codemirror_mode": {
    "name": "ipython",
    "version": 2
   },
   "file_extension": ".py",
   "mimetype": "text/x-python",
   "name": "python",
   "nbconvert_exporter": "python",
   "pygments_lexer": "ipython2",
   "version": "2.7.12"
  }
 },
 "nbformat": 4,
 "nbformat_minor": 1
}
